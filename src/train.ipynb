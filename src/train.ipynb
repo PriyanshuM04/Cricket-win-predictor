{
 "cells": [
  {
   "cell_type": "markdown",
   "id": "ff3d004f",
   "metadata": {},
   "source": [
    "## 🟢Imports"
   ]
  },
  {
   "cell_type": "code",
   "execution_count": 1,
   "id": "c3177f8d",
   "metadata": {},
   "outputs": [],
   "source": [
    "import numpy as np\n",
    "import pandas as pd\n",
    "import os\n",
    "import joblib\n",
    "from sklearn.model_selection import train_test_split\n",
    "from sklearn.linear_model import LogisticRegression\n",
    "from sklearn.ensemble import RandomForestClassifier\n",
    "from sklearn.metrics import accuracy_score, confusion_matrix, classification_report\n",
    "import matplotlib.pyplot as plt\n",
    "import seaborn as sns\n"
   ]
  },
  {
   "cell_type": "markdown",
   "id": "ef45db3b",
   "metadata": {},
   "source": [
    "## 🟢Load Processed data"
   ]
  },
  {
   "cell_type": "code",
   "execution_count": 4,
   "id": "42308108",
   "metadata": {},
   "outputs": [
    {
     "name": "stdout",
     "output_type": "stream",
     "text": [
      "Processed data shape: (752, 8)\n"
     ]
    },
    {
     "data": {
      "text/html": [
       "<div>\n",
       "<style scoped>\n",
       "    .dataframe tbody tr th:only-of-type {\n",
       "        vertical-align: middle;\n",
       "    }\n",
       "\n",
       "    .dataframe tbody tr th {\n",
       "        vertical-align: top;\n",
       "    }\n",
       "\n",
       "    .dataframe thead th {\n",
       "        text-align: right;\n",
       "    }\n",
       "</style>\n",
       "<table border=\"1\" class=\"dataframe\">\n",
       "  <thead>\n",
       "    <tr style=\"text-align: right;\">\n",
       "      <th></th>\n",
       "      <th>Season</th>\n",
       "      <th>team1</th>\n",
       "      <th>team2</th>\n",
       "      <th>toss_winner</th>\n",
       "      <th>toss_decision</th>\n",
       "      <th>venue</th>\n",
       "      <th>winner</th>\n",
       "      <th>Home_advantage</th>\n",
       "    </tr>\n",
       "  </thead>\n",
       "  <tbody>\n",
       "    <tr>\n",
       "      <th>0</th>\n",
       "      <td>9</td>\n",
       "      <td>14</td>\n",
       "      <td>13</td>\n",
       "      <td>13</td>\n",
       "      <td>1</td>\n",
       "      <td>28</td>\n",
       "      <td>14</td>\n",
       "      <td>1</td>\n",
       "    </tr>\n",
       "    <tr>\n",
       "      <th>1</th>\n",
       "      <td>9</td>\n",
       "      <td>8</td>\n",
       "      <td>11</td>\n",
       "      <td>11</td>\n",
       "      <td>1</td>\n",
       "      <td>21</td>\n",
       "      <td>11</td>\n",
       "      <td>0</td>\n",
       "    </tr>\n",
       "    <tr>\n",
       "      <th>2</th>\n",
       "      <td>9</td>\n",
       "      <td>4</td>\n",
       "      <td>7</td>\n",
       "      <td>7</td>\n",
       "      <td>1</td>\n",
       "      <td>31</td>\n",
       "      <td>7</td>\n",
       "      <td>1</td>\n",
       "    </tr>\n",
       "    <tr>\n",
       "      <th>3</th>\n",
       "      <td>9</td>\n",
       "      <td>11</td>\n",
       "      <td>5</td>\n",
       "      <td>5</td>\n",
       "      <td>1</td>\n",
       "      <td>13</td>\n",
       "      <td>5</td>\n",
       "      <td>0</td>\n",
       "    </tr>\n",
       "    <tr>\n",
       "      <th>4</th>\n",
       "      <td>9</td>\n",
       "      <td>13</td>\n",
       "      <td>3</td>\n",
       "      <td>13</td>\n",
       "      <td>0</td>\n",
       "      <td>17</td>\n",
       "      <td>13</td>\n",
       "      <td>1</td>\n",
       "    </tr>\n",
       "  </tbody>\n",
       "</table>\n",
       "</div>"
      ],
      "text/plain": [
       "   Season  team1  team2  toss_winner  toss_decision  venue  winner  \\\n",
       "0       9     14     13           13              1     28      14   \n",
       "1       9      8     11           11              1     21      11   \n",
       "2       9      4      7            7              1     31       7   \n",
       "3       9     11      5            5              1     13       5   \n",
       "4       9     13      3           13              0     17      13   \n",
       "\n",
       "   Home_advantage  \n",
       "0               1  \n",
       "1               0  \n",
       "2               1  \n",
       "3               0  \n",
       "4               1  "
      ]
     },
     "execution_count": 4,
     "metadata": {},
     "output_type": "execute_result"
    }
   ],
   "source": [
    "data_path = r\"D:\\PYTHON\\Projects\\Cricket-win-predictor\\data\\processed.csv\"\n",
    "encoders_path = r\"D:\\PYTHON\\Projects\\Cricket-win-predictor\\out\\encoders.pkl\"\n",
    "\n",
    "df = pd.read_csv(data_path)\n",
    "encoders = joblib.load(encoders_path)\n",
    "\n",
    "print(f\"Processed data shape: {df.shape}\")\n",
    "df.head()"
   ]
  },
  {
   "cell_type": "markdown",
   "id": "20ac4a1e",
   "metadata": {},
   "source": [
    "## 🟢Define features and Target"
   ]
  },
  {
   "cell_type": "code",
   "execution_count": 6,
   "id": "13ae0926",
   "metadata": {},
   "outputs": [
    {
     "name": "stdout",
     "output_type": "stream",
     "text": [
      "Feature shape: (752, 7)\n",
      "Target distribution: \n",
      " winner\n",
      "8     109\n",
      "0     100\n",
      "7      92\n",
      "13     84\n",
      "5      82\n",
      "10     75\n",
      "3      67\n",
      "14     58\n",
      "1      29\n",
      "4      13\n",
      "9      12\n",
      "11     10\n",
      "2      10\n",
      "6       6\n",
      "12      5\n",
      "Name: count, dtype: int64\n"
     ]
    }
   ],
   "source": [
    "# Drop target column from features\n",
    "x = df.drop(columns=[\"winner\"])\n",
    "y = df[\"winner\"]\n",
    "\n",
    "print(f\"Feature shape: {x.shape}\")\n",
    "print(f\"Target distribution: \\n {y.value_counts()}\")"
   ]
  },
  {
   "cell_type": "markdown",
   "id": "7d986365",
   "metadata": {},
   "source": [
    "## 🟢Time-Aware Train/Test Split"
   ]
  },
  {
   "cell_type": "code",
   "execution_count": 7,
   "id": "e8b9dc83",
   "metadata": {},
   "outputs": [
    {
     "name": "stdout",
     "output_type": "stream",
     "text": [
      "Training samples: 601, Testing samples: 151\n"
     ]
    }
   ],
   "source": [
    "# Sort by Season (to avoid data leakage from future seasons)\n",
    "df_sorted = df.sort_values(by='Season')\n",
    "\n",
    "# Define features and labels again\n",
    "X = df_sorted.drop(columns=['winner'])\n",
    "y = df_sorted['winner']\n",
    "\n",
    "# Split using 80% old seasons for training, 20% recent for testing\n",
    "split_index = int(0.8 * len(df_sorted))\n",
    "X_train, X_test = X.iloc[:split_index], X.iloc[split_index:]\n",
    "y_train, y_test = y.iloc[:split_index], y.iloc[split_index:]\n",
    "\n",
    "print(f\"Training samples: {X_train.shape[0]}, Testing samples: {X_test.shape[0]}\")\n"
   ]
  },
  {
   "cell_type": "markdown",
   "id": "a62c21e5",
   "metadata": {},
   "source": [
    "## 🟢Train Logistic Regression Model"
   ]
  },
  {
   "cell_type": "code",
   "execution_count": 8,
   "id": "e9b5b8a6",
   "metadata": {},
   "outputs": [
    {
     "name": "stdout",
     "output_type": "stream",
     "text": [
      "Logistic Regression Accuracy: 0.1126\n"
     ]
    },
    {
     "name": "stderr",
     "output_type": "stream",
     "text": [
      "c:\\Users\\priya\\AppData\\Local\\Programs\\Python\\Python312\\Lib\\site-packages\\sklearn\\linear_model\\_logistic.py:460: ConvergenceWarning: lbfgs failed to converge (status=1):\n",
      "STOP: TOTAL NO. of ITERATIONS REACHED LIMIT.\n",
      "\n",
      "Increase the number of iterations (max_iter) or scale the data as shown in:\n",
      "    https://scikit-learn.org/stable/modules/preprocessing.html\n",
      "Please also refer to the documentation for alternative solver options:\n",
      "    https://scikit-learn.org/stable/modules/linear_model.html#logistic-regression\n",
      "  n_iter_i = _check_optimize_result(\n"
     ]
    }
   ],
   "source": [
    "log_reg = LogisticRegression(max_iter=1000, random_state=42)\n",
    "log_reg.fit(X_train, y_train)\n",
    "\n",
    "y_pred_lr = log_reg.predict(X_test)\n",
    "acc_lr = accuracy_score(y_test, y_pred_lr)\n",
    "\n",
    "print(f\"Logistic Regression Accuracy: {acc_lr:.4f}\")\n"
   ]
  },
  {
   "cell_type": "markdown",
   "id": "16dd87e0",
   "metadata": {},
   "source": [
    "## 🟢Train Random Forest Model"
   ]
  },
  {
   "cell_type": "code",
   "execution_count": 9,
   "id": "162d941d",
   "metadata": {},
   "outputs": [
    {
     "name": "stdout",
     "output_type": "stream",
     "text": [
      "Random Forest Accuracy: 0.5497\n"
     ]
    }
   ],
   "source": [
    "rf = RandomForestClassifier(n_estimators=200, random_state=42)\n",
    "rf.fit(X_train, y_train)\n",
    "\n",
    "y_pred_rf = rf.predict(X_test)\n",
    "acc_rf = accuracy_score(y_test, y_pred_rf)\n",
    "\n",
    "print(f\"Random Forest Accuracy: {acc_rf:.4f}\")\n"
   ]
  },
  {
   "cell_type": "markdown",
   "id": "3487e703",
   "metadata": {},
   "source": [
    "## 🟢Compare Model performance"
   ]
  },
  {
   "cell_type": "code",
   "execution_count": 10,
   "id": "3df51e35",
   "metadata": {},
   "outputs": [
    {
     "name": "stdout",
     "output_type": "stream",
     "text": [
      "\n",
      "Model Comparison:\n",
      "Logistic Regression: 0.1126\n",
      "Random Forest: 0.5497\n",
      "\n",
      "✅ Best Model: Random Forest\n"
     ]
    }
   ],
   "source": [
    "print(\"\\nModel Comparison:\")\n",
    "print(f\"Logistic Regression: {acc_lr:.4f}\")\n",
    "print(f\"Random Forest: {acc_rf:.4f}\")\n",
    "\n",
    "best_model = rf if acc_rf >= acc_lr else log_reg\n",
    "best_name = \"Random Forest\" if acc_rf >= acc_lr else \"Logistic Regression\"\n",
    "print(f\"\\n✅ Best Model: {best_name}\")\n"
   ]
  },
  {
   "cell_type": "markdown",
   "id": "cfbc9a3c",
   "metadata": {},
   "source": [
    "## 🟢Confusion Matrix Visualization"
   ]
  },
  {
   "cell_type": "code",
   "execution_count": 11,
   "id": "01de643c",
   "metadata": {},
   "outputs": [
    {
     "data": {
      "image/png": "[encoded data removed]",
      "text/plain": [
       "<Figure size 600x400 with 2 Axes>"
      ]
     },
     "metadata": {},
     "output_type": "display_data"
    }
   ],
   "source": [
    "y_pred = best_model.predict(X_test)\n",
    "\n",
    "cm = confusion_matrix(y_test, y_pred)\n",
    "plt.figure(figsize=(6,4))\n",
    "sns.heatmap(cm, annot=True, fmt='d', cmap='Blues')\n",
    "plt.title(f'Confusion Matrix ({best_name})')\n",
    "plt.xlabel('Predicted')\n",
    "plt.ylabel('Actual')\n",
    "plt.show()\n"
   ]
  },
  {
   "cell_type": "markdown",
   "id": "55cb2067",
   "metadata": {},
   "source": [
    "## 🟢Classification Report"
   ]
  },
  {
   "cell_type": "code",
   "execution_count": 12,
   "id": "a904bb58",
   "metadata": {},
   "outputs": [
    {
     "name": "stdout",
     "output_type": "stream",
     "text": [
      "Classification Report:\n",
      "\n",
      "              precision    recall  f1-score   support\n",
      "\n",
      "           0       0.72      0.86      0.78        21\n",
      "           2       0.00      0.00      0.00        10\n",
      "           3       0.12      0.22      0.16         9\n",
      "           4       0.25      0.50      0.33         2\n",
      "           5       0.62      0.31      0.42        16\n",
      "           7       0.59      0.68      0.63        19\n",
      "           8       0.54      0.57      0.55        23\n",
      "          10       0.56      0.42      0.48        12\n",
      "          11       0.40      0.29      0.33         7\n",
      "          13       0.54      0.58      0.56        12\n",
      "          14       0.68      0.85      0.76        20\n",
      "\n",
      "    accuracy                           0.55       151\n",
      "   macro avg       0.46      0.48      0.46       151\n",
      "weighted avg       0.53      0.55      0.53       151\n",
      "\n"
     ]
    },
    {
     "name": "stderr",
     "output_type": "stream",
     "text": [
      "c:\\Users\\priya\\AppData\\Local\\Programs\\Python\\Python312\\Lib\\site-packages\\sklearn\\metrics\\_classification.py:1471: UndefinedMetricWarning: Precision and F-score are ill-defined and being set to 0.0 in labels with no predicted samples. Use `zero_division` parameter to control this behavior.\n",
      "  _warn_prf(average, modifier, msg_start, len(result))\n",
      "c:\\Users\\priya\\AppData\\Local\\Programs\\Python\\Python312\\Lib\\site-packages\\sklearn\\metrics\\_classification.py:1471: UndefinedMetricWarning: Precision and F-score are ill-defined and being set to 0.0 in labels with no predicted samples. Use `zero_division` parameter to control this behavior.\n",
      "  _warn_prf(average, modifier, msg_start, len(result))\n",
      "c:\\Users\\priya\\AppData\\Local\\Programs\\Python\\Python312\\Lib\\site-packages\\sklearn\\metrics\\_classification.py:1471: UndefinedMetricWarning: Precision and F-score are ill-defined and being set to 0.0 in labels with no predicted samples. Use `zero_division` parameter to control this behavior.\n",
      "  _warn_prf(average, modifier, msg_start, len(result))\n"
     ]
    }
   ],
   "source": [
    "print(\"Classification Report:\\n\")\n",
    "print(classification_report(y_test, y_pred))"
   ]
  },
  {
   "cell_type": "markdown",
   "id": "b83aa707",
   "metadata": {},
   "source": [
    "## 🟢Save best model"
   ]
  },
  {
   "cell_type": "code",
   "execution_count": 14,
   "id": "7235d69a",
   "metadata": {},
   "outputs": [
    {
     "name": "stdout",
     "output_type": "stream",
     "text": [
      "✅ Model saved successfully to D:\\PYTHON\\Projects\\Cricket-win-predictor\\out\\model.pkl\n"
     ]
    }
   ],
   "source": [
    "# ✅ Give full path to the 'out' folder (project root)\n",
    "model_path = r\"D:\\PYTHON\\Projects\\Cricket-win-predictor\\out\\model.pkl\"\n",
    "\n",
    "# Ensure directory exists\n",
    "os.makedirs(os.path.dirname(model_path), exist_ok=True)\n",
    "\n",
    "# Save the best model\n",
    "joblib.dump(best_model, model_path)\n",
    "print(f\"✅ Model saved successfully to {model_path}\")\n"
   ]
  },
  {
   "cell_type": "markdown",
   "id": "3abe5b8d",
   "metadata": {},
   "source": [
    "## 🟢Quick Sanity Check"
   ]
  },
  {
   "cell_type": "code",
   "execution_count": 15,
   "id": "242a8a42",
   "metadata": {},
   "outputs": [
    {
     "name": "stdout",
     "output_type": "stream",
     "text": [
      "Sample Prediction: [3]\n"
     ]
    }
   ],
   "source": [
    "# Reload model to verify\n",
    "model_loaded = joblib.load(model_path)\n",
    "sample_pred = model_loaded.predict(X_test.head(1))\n",
    "print(\"Sample Prediction:\", sample_pred)\n"
   ]
  },
  {
   "cell_type": "code",
   "execution_count": null,
   "id": "0dcee455",
   "metadata": {},
   "outputs": [],
   "source": []
  }
 ],
 "metadata": {
  "kernelspec": {
   "display_name": "Python 3",
   "language": "python",
   "name": "python3"
  },
  "language_info": {
   "codemirror_mode": {
    "name": "ipython",
    "version": 3
   },
   "file_extension": ".py",
   "mimetype": "text/x-python",
   "name": "python",
   "nbconvert_exporter": "python",
   "pygments_lexer": "ipython3",
   "version": "3.12.4"
  }
 },
 "nbformat": 4,
 "nbformat_minor": 5
}
